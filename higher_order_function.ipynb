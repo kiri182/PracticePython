{
  "nbformat": 4,
  "nbformat_minor": 0,
  "metadata": {
    "colab": {
      "provenance": []
    },
    "kernelspec": {
      "name": "python3",
      "display_name": "Python 3"
    },
    "language_info": {
      "name": "python"
    }
  },
  "cells": [
    {
      "cell_type": "code",
      "execution_count": 3,
      "metadata": {
        "colab": {
          "base_uri": "https://localhost:8080/",
          "height": 71
        },
        "id": "Z1iBTt_nB8Tr",
        "outputId": "bd552f75-013f-4144-a390-e95ae24513d7"
      },
      "outputs": [
        {
          "output_type": "stream",
          "name": "stdout",
          "text": [
            "This is an apple.\n",
            "This is an apple.\n"
          ]
        },
        {
          "output_type": "execute_result",
          "data": {
            "text/plain": [
              "'\\nThis is an apple.\\nThis is an apple.\\n'"
            ],
            "application/vnd.google.colaboratory.intrinsic+json": {
              "type": "string"
            }
          },
          "metadata": {},
          "execution_count": 3
        }
      ],
      "source": [
        "def apple():\n",
        "  print(\"This is an apple.\")\n",
        "\n",
        "def double(func):\n",
        "  func()\n",
        "  func()\n",
        "\n",
        "double(apple)\n",
        "'''\n",
        "This is an apple.\n",
        "This is an apple.\n",
        "'''"
      ]
    },
    {
      "cell_type": "code",
      "source": [
        "#x = map(適用したい関数, 繰り返しオブジェクト)\n",
        "\n",
        "x = [1, 5, 9, 18, 27]\n",
        "\n",
        "def dbl(num):\n",
        "  return num * 2\n",
        "\n",
        "r = list(map(dbl, x))\n",
        "r\n",
        "\n",
        "#[2, 10, 18, 36, 54]"
      ],
      "metadata": {
        "colab": {
          "base_uri": "https://localhost:8080/"
        },
        "id": "8qG8wXJ9C0nh",
        "outputId": "127da0c9-2060-416c-baee-0b3104175290"
      },
      "execution_count": 6,
      "outputs": [
        {
          "output_type": "execute_result",
          "data": {
            "text/plain": [
              "[2, 10, 18, 36, 54]"
            ]
          },
          "metadata": {},
          "execution_count": 6
        }
      ]
    },
    {
      "cell_type": "code",
      "source": [
        "r2 = list(map(lambda n: n * 2, x))\n",
        "r2\n",
        "#[2, 10, 18, 36, 54]"
      ],
      "metadata": {
        "colab": {
          "base_uri": "https://localhost:8080/"
        },
        "id": "8qK5dm5wD1vF",
        "outputId": "f2d1fbbe-a2f4-48c4-c9d9-3824283ad4c8"
      },
      "execution_count": 8,
      "outputs": [
        {
          "output_type": "execute_result",
          "data": {
            "text/plain": [
              "[2, 10, 18, 36, 54]"
            ]
          },
          "metadata": {},
          "execution_count": 8
        }
      ]
    },
    {
      "cell_type": "code",
      "source": [
        "x = [0.1, -11, 198, -2000]\n",
        "\n",
        "r3 = list(map(abs, x))\n",
        "r3\n",
        "#[0.1, 11, 198, 2000]"
      ],
      "metadata": {
        "colab": {
          "base_uri": "https://localhost:8080/"
        },
        "id": "_GVIBxFTEQOq",
        "outputId": "6bebe3a2-4aaf-45d3-a27e-c6e91a6fc291"
      },
      "execution_count": 10,
      "outputs": [
        {
          "output_type": "execute_result",
          "data": {
            "text/plain": [
              "[0.1, 11, 198, 2000]"
            ]
          },
          "metadata": {},
          "execution_count": 10
        }
      ]
    },
    {
      "cell_type": "code",
      "source": [
        "x = [1, 9, -12, 17, 27]\n",
        "\n",
        "def is_multiple_3(num):\n",
        "  return num % 3 == 0\n",
        "\n",
        "r4 = list(filter(is_multiple_3, x))\n",
        "r4\n",
        "#[9, -12, 27]"
      ],
      "metadata": {
        "colab": {
          "base_uri": "https://localhost:8080/"
        },
        "id": "8_IarEllEpGw",
        "outputId": "dc902ee7-16d4-4386-ca2b-110bc78e6418"
      },
      "execution_count": 12,
      "outputs": [
        {
          "output_type": "execute_result",
          "data": {
            "text/plain": [
              "[9, -12, 27]"
            ]
          },
          "metadata": {},
          "execution_count": 12
        }
      ]
    },
    {
      "cell_type": "code",
      "source": [
        "r5 = list(filter(lambda n: n %3 == 0, x))\n",
        "r5\n",
        "#[9, -12, 27]"
      ],
      "metadata": {
        "colab": {
          "base_uri": "https://localhost:8080/"
        },
        "id": "wQZrqPbYF6Rd",
        "outputId": "50dd86bc-ffdd-4178-e359-edfeb83f44a6"
      },
      "execution_count": 15,
      "outputs": [
        {
          "output_type": "execute_result",
          "data": {
            "text/plain": [
              "[9, -12, 27]"
            ]
          },
          "metadata": {},
          "execution_count": 15
        }
      ]
    },
    {
      "cell_type": "code",
      "source": [
        "x = [2, 53, 21, 98, 1012]\n",
        "\n",
        "map_object = list(map(lambda n: n+1, x))\n",
        "filter_object = list(filter(lambda n: n %3 ==0, map_object))\n",
        "\n",
        "filter_object\n",
        "#[3, 54, 99]"
      ],
      "metadata": {
        "colab": {
          "base_uri": "https://localhost:8080/"
        },
        "id": "PccRopTFGNSH",
        "outputId": "3d002331-1890-4030-8b76-24857119d5b2"
      },
      "execution_count": 18,
      "outputs": [
        {
          "output_type": "execute_result",
          "data": {
            "text/plain": [
              "[3, 54, 99]"
            ]
          },
          "metadata": {},
          "execution_count": 18
        }
      ]
    },
    {
      "cell_type": "code",
      "source": [
        "from functools import reduce\n",
        "\n",
        "x = [1, 3, 5, 7, 9]\n",
        "\n",
        "def multiple(a, b):\n",
        "  return a * b\n",
        "\n",
        "r6 = reduce(multiple, x)\n",
        "r6\n",
        "#945"
      ],
      "metadata": {
        "colab": {
          "base_uri": "https://localhost:8080/"
        },
        "id": "zkxrzLTLH6YA",
        "outputId": "69bb50e3-024f-4cbc-ee02-3f365f2c34ec"
      },
      "execution_count": 20,
      "outputs": [
        {
          "output_type": "execute_result",
          "data": {
            "text/plain": [
              "945"
            ]
          },
          "metadata": {},
          "execution_count": 20
        }
      ]
    },
    {
      "cell_type": "code",
      "source": [
        "from functools import reduce\n",
        "\n",
        "x = [1, 3, 5, 7, 9]\n",
        "\n",
        "r7= reduce(lambda n, m: n*m, x)\n",
        "r7\n",
        "#945"
      ],
      "metadata": {
        "colab": {
          "base_uri": "https://localhost:8080/"
        },
        "id": "wI-ZPw3eGy3M",
        "outputId": "2186ecdd-15bf-4870-baf8-572d1d9e1654"
      },
      "execution_count": 22,
      "outputs": [
        {
          "output_type": "execute_result",
          "data": {
            "text/plain": [
              "945"
            ]
          },
          "metadata": {},
          "execution_count": 22
        }
      ]
    },
    {
      "cell_type": "code",
      "source": [],
      "metadata": {
        "id": "574nBgP9H1L3"
      },
      "execution_count": null,
      "outputs": []
    }
  ]
}