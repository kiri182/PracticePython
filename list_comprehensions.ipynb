{
  "nbformat": 4,
  "nbformat_minor": 0,
  "metadata": {
    "colab": {
      "provenance": []
    },
    "kernelspec": {
      "name": "python3",
      "display_name": "Python 3"
    },
    "language_info": {
      "name": "python"
    }
  },
  "cells": [
    {
      "cell_type": "code",
      "execution_count": 3,
      "metadata": {
        "colab": {
          "base_uri": "https://localhost:8080/"
        },
        "id": "Ot3qJxDE7NuE",
        "outputId": "c3fe9b41-6553-4da5-c2ce-a144a8136266"
      },
      "outputs": [
        {
          "output_type": "execute_result",
          "data": {
            "text/plain": [
              "[0, 1, 2, 3, 4, 5, 6, 7, 8, 9]"
            ]
          },
          "metadata": {},
          "execution_count": 3
        }
      ],
      "source": [
        "x = []\n",
        "for i in range(10):\n",
        "  x.append(i)\n",
        "\n",
        "x\n",
        "#[0, 1, 2, 3, 4, 5, 6, 7, 8, 9]"
      ]
    },
    {
      "cell_type": "code",
      "source": [
        "#[式 for 変数 in 繰り返しオブジェクト]\n",
        " [i for i in range(10)]\n",
        "##[0, 1, 2, 3, 4, 5, 6, 7, 8, 9]"
      ],
      "metadata": {
        "colab": {
          "base_uri": "https://localhost:8080/"
        },
        "id": "Yixh7Pvl8by_",
        "outputId": "ec5e5a07-58c5-4e34-c972-3fdf02808d69"
      },
      "execution_count": 5,
      "outputs": [
        {
          "output_type": "execute_result",
          "data": {
            "text/plain": [
              "[0, 1, 2, 3, 4, 5, 6, 7, 8, 9]"
            ]
          },
          "metadata": {},
          "execution_count": 5
        }
      ]
    },
    {
      "cell_type": "code",
      "source": [
        "[y**2 for y in range(10)]\n",
        "#[0, 1, 4, 9, 16, 25, 36, 49, 64, 81]"
      ],
      "metadata": {
        "colab": {
          "base_uri": "https://localhost:8080/"
        },
        "id": "X5Y6-NVw8jjN",
        "outputId": "e12e2f35-2383-4f35-8e17-8563ed08063e"
      },
      "execution_count": 12,
      "outputs": [
        {
          "output_type": "execute_result",
          "data": {
            "text/plain": [
              "[0, 1, 4, 9, 16, 25, 36, 49, 64, 81]"
            ]
          },
          "metadata": {},
          "execution_count": 12
        }
      ]
    },
    {
      "cell_type": "code",
      "source": [
        "names = ['Sato', 'Suzuki', 'Tanaka']\n",
        "['Mr. '+z for z in names]\n",
        "#['Mr. Sato', 'Mr. Suzuki', 'Mr. Tanaka']"
      ],
      "metadata": {
        "colab": {
          "base_uri": "https://localhost:8080/"
        },
        "id": "BSO_3l4q84GJ",
        "outputId": "51458427-428a-4fe6-fa99-8147158a4ffc"
      },
      "execution_count": 22,
      "outputs": [
        {
          "output_type": "execute_result",
          "data": {
            "text/plain": [
              "['Mr. Sato', 'Mr. Suzuki', 'Mr. Tanaka']"
            ]
          },
          "metadata": {},
          "execution_count": 22
        }
      ]
    },
    {
      "cell_type": "code",
      "source": [
        "#[式 for 変数 in 繰り返しオブジェクト if 条件式]\n",
        "#Trueの時だけ新リストの要素となる。\n",
        "[i for i in range(10) if i%2 == 0]\n",
        "#[0, 2, 4, 6, 8]"
      ],
      "metadata": {
        "colab": {
          "base_uri": "https://localhost:8080/"
        },
        "id": "EZ3yUs0G9R_g",
        "outputId": "56f16687-18be-4d62-ad36-653645db9e93"
      },
      "execution_count": 27,
      "outputs": [
        {
          "output_type": "execute_result",
          "data": {
            "text/plain": [
              "[0, 2, 4, 6, 8]"
            ]
          },
          "metadata": {},
          "execution_count": 27
        }
      ]
    },
    {
      "cell_type": "code",
      "source": [
        "[a for a in names if \"a\" in a]\n",
        "#['Sato', 'Tanaka']"
      ],
      "metadata": {
        "colab": {
          "base_uri": "https://localhost:8080/"
        },
        "id": "Svf1aMxY98Wz",
        "outputId": "68846780-f27c-44fe-e10f-01ebeb11d14f"
      },
      "execution_count": 39,
      "outputs": [
        {
          "output_type": "execute_result",
          "data": {
            "text/plain": [
              "['Sato', 'Tanaka']"
            ]
          },
          "metadata": {},
          "execution_count": 39
        }
      ]
    },
    {
      "cell_type": "code",
      "source": [
        "#三項演算子：条件の結果によって返す値を変えられる演算子\n",
        "#True時の値 if 条件式 else Flase時の値 for 変数 in 繰り返しオブジェクト\n",
        "[\"even\" if q%2 == 0 else q for q in range(10)]\n",
        "#['even', 1, 'even', 3, 'even', 5, 'even', 7, 'even', 9]"
      ],
      "metadata": {
        "colab": {
          "base_uri": "https://localhost:8080/"
        },
        "id": "rpB8_fw7-T7I",
        "outputId": "ecab4069-2e26-4033-dceb-fcc310664476"
      },
      "execution_count": 42,
      "outputs": [
        {
          "output_type": "execute_result",
          "data": {
            "text/plain": [
              "['even', 1, 'even', 3, 'even', 5, 'even', 7, 'even', 9]"
            ]
          },
          "metadata": {},
          "execution_count": 42
        }
      ]
    },
    {
      "cell_type": "code",
      "source": [
        "kanto = ['東京', '神奈川', '埼玉', '千葉']\n",
        "[p+'都' if p == '東京' else p+'県' for p in kanto]\n",
        "#['東京都', '神奈川県', '埼玉県', '千葉県']"
      ],
      "metadata": {
        "colab": {
          "base_uri": "https://localhost:8080/"
        },
        "id": "u_T1KZ7b_g5u",
        "outputId": "8f2f4be4-7a76-4e16-ab37-b382b6733a2e"
      },
      "execution_count": 45,
      "outputs": [
        {
          "output_type": "execute_result",
          "data": {
            "text/plain": [
              "['東京都', '神奈川県', '埼玉県', '千葉県']"
            ]
          },
          "metadata": {},
          "execution_count": 45
        }
      ]
    },
    {
      "cell_type": "code",
      "source": [],
      "metadata": {
        "id": "4L50P-8_ANrr"
      },
      "execution_count": null,
      "outputs": []
    }
  ]
}