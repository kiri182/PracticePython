{
  "nbformat": 4,
  "nbformat_minor": 0,
  "metadata": {
    "colab": {
      "provenance": []
    },
    "kernelspec": {
      "name": "python3",
      "display_name": "Python 3"
    },
    "language_info": {
      "name": "python"
    }
  },
  "cells": [
    {
      "cell_type": "code",
      "execution_count": 36,
      "metadata": {
        "id": "UbvuxB3e1XQV",
        "colab": {
          "base_uri": "https://localhost:8080/"
        },
        "outputId": "9fc165ed-8eba-40ac-e911-a92c8d644fda"
      },
      "outputs": [
        {
          "output_type": "stream",
          "name": "stdout",
          "text": [
            "x_set is <class 'set'>\n",
            "y_list_1 is <class 'list'>\n",
            "y_set is <class 'set'>\n"
          ]
        }
      ],
      "source": [
        "#set\n",
        "\n",
        "x_set = {111, 222, 333, 444, 555}\n",
        "y_list_1 = [111, 333, 555, 777]\n",
        "y_set = set(y_list_1)\n",
        "\n",
        "print(f'x_set is {type(x_set)}')\n",
        "print(f'y_list_1 is {type(y_list_1)}')\n",
        "print(f'y_set is {type(y_set)}')"
      ]
    },
    {
      "cell_type": "code",
      "source": [
        "or_1 = x_set | y_set\n",
        "or_2 = x_set.union(y_set)\n",
        "print(\"#OR\")\n",
        "print(f'x_set | y_set is {or_1}')\n",
        "print(f'x_set.union(y_set) is {or_2}')\n",
        "\n",
        "and_1 = x_set & y_set\n",
        "and_2 = x_set.intersection(and_1)\n",
        "print(\"#AND\")\n",
        "print(f'x_set & y_set is {and_1}')\n",
        "print(f'x_set.intersection(AND_1) is {and_2}')\n",
        "\n",
        "diff_1 = x_set - y_set\n",
        "diff_2 = x_set.difference(y_set)\n",
        "print(\"#DIFF\")\n",
        "print(f'x_set - y_set is {diff_1}')\n",
        "print(f'x_set.difference(y_set) is {diff_2}')\n",
        "\n",
        "sym_1 = x_set ^ y_set\n",
        "sym_2 = x_set.symmetric_difference(y_set)\n",
        "print(\"#Synmetric DIFF\")\n",
        "print(f'x_set ^ y_set is {sym_1}')\n",
        "print(f'x_set.symmetric_difference is {sym_2}')"
      ],
      "metadata": {
        "colab": {
          "base_uri": "https://localhost:8080/"
        },
        "id": "Jezdqs2y_tWa",
        "outputId": "b4adb633-2707-407d-93bd-7a8f55b07654"
      },
      "execution_count": 37,
      "outputs": [
        {
          "output_type": "stream",
          "name": "stdout",
          "text": [
            "#OR\n",
            "x_set | y_set is {777, 555, 333, 111, 444, 222}\n",
            "x_set.union(y_set) is {777, 555, 333, 111, 444, 222}\n",
            "#AND\n",
            "x_set & y_set is {555, 333, 111}\n",
            "x_set.intersection(AND_1) is {555, 333, 111}\n",
            "#DIFF\n",
            "x_set - y_set is {444, 222}\n",
            "x_set.difference(y_set) is {444, 222}\n",
            "#Synmetric DIFF\n",
            "x_set ^ y_set is {777, 444, 222}\n",
            "x_set.symmetric_difference is {777, 444, 222}\n"
          ]
        }
      ]
    },
    {
      "cell_type": "code",
      "source": [
        "#tuple\n",
        "\n",
        "x_tuple = (1, 3, 5)\n",
        "y_list_2 = [3, 4, 5]\n",
        "y_tuple = tuple(y_list_2)\n",
        "\n",
        "print(f'x_tuple is {type(x_set)}')\n",
        "print(f'y_list_2 is {type(y_list_2)}')\n",
        "print(f'y_tuple is {type(y_set)}')"
      ],
      "metadata": {
        "colab": {
          "base_uri": "https://localhost:8080/"
        },
        "id": "GNx2SPed7EL3",
        "outputId": "b8828011-119f-4602-a260-08ec73669287"
      },
      "execution_count": 38,
      "outputs": [
        {
          "output_type": "stream",
          "name": "stdout",
          "text": [
            "x_tuple is <class 'set'>\n",
            "y_list_2 is <class 'list'>\n",
            "y_tuple is <class 'set'>\n"
          ]
        }
      ]
    },
    {
      "cell_type": "code",
      "source": [
        "display(x_tuple[0])\n",
        "display(x_tuple[:2])\n",
        "display(x_tuple[1:])"
      ],
      "metadata": {
        "colab": {
          "base_uri": "https://localhost:8080/",
          "height": 69
        },
        "id": "BX6829iL-X44",
        "outputId": "966433f4-8544-48b1-8a30-a1e965019b18"
      },
      "execution_count": 41,
      "outputs": [
        {
          "output_type": "display_data",
          "data": {
            "text/plain": [
              "1"
            ]
          },
          "metadata": {}
        },
        {
          "output_type": "display_data",
          "data": {
            "text/plain": [
              "(1, 3)"
            ]
          },
          "metadata": {}
        },
        {
          "output_type": "display_data",
          "data": {
            "text/plain": [
              "(3, 5)"
            ]
          },
          "metadata": {}
        }
      ]
    },
    {
      "cell_type": "code",
      "source": [
        "display(x_tuple.append(4))"
      ],
      "metadata": {
        "colab": {
          "base_uri": "https://localhost:8080/",
          "height": 175
        },
        "id": "QUsttFiA_ih1",
        "outputId": "ca89516e-184f-4276-ffd9-b314a85eb57a"
      },
      "execution_count": 42,
      "outputs": [
        {
          "output_type": "error",
          "ename": "AttributeError",
          "evalue": "ignored",
          "traceback": [
            "\u001b[0;31m---------------------------------------------------------------------------\u001b[0m",
            "\u001b[0;31mAttributeError\u001b[0m                            Traceback (most recent call last)",
            "\u001b[0;32m<ipython-input-42-038c656fb547>\u001b[0m in \u001b[0;36m<cell line: 1>\u001b[0;34m()\u001b[0m\n\u001b[0;32m----> 1\u001b[0;31m \u001b[0mdisplay\u001b[0m\u001b[0;34m(\u001b[0m\u001b[0mx_tuple\u001b[0m\u001b[0;34m.\u001b[0m\u001b[0mappend\u001b[0m\u001b[0;34m(\u001b[0m\u001b[0;36m4\u001b[0m\u001b[0;34m)\u001b[0m\u001b[0;34m)\u001b[0m\u001b[0;34m\u001b[0m\u001b[0;34m\u001b[0m\u001b[0m\n\u001b[0m",
            "\u001b[0;31mAttributeError\u001b[0m: 'tuple' object has no attribute 'append'"
          ]
        }
      ]
    },
    {
      "cell_type": "code",
      "source": [
        "xy_tuple = x_tuple + y_tuple\n",
        "display(xy_tuple)"
      ],
      "metadata": {
        "colab": {
          "base_uri": "https://localhost:8080/",
          "height": 34
        },
        "id": "3R7jYN-i_6Mj",
        "outputId": "9045b891-2924-4db6-de41-12fc880209d5"
      },
      "execution_count": 44,
      "outputs": [
        {
          "output_type": "display_data",
          "data": {
            "text/plain": [
              "(1, 3, 5, 3, 4, 5)"
            ]
          },
          "metadata": {}
        }
      ]
    },
    {
      "cell_type": "code",
      "source": [
        "def test_func():\n",
        "  x = 2 * 2\n",
        "  y = 3 * 3\n",
        "  return x, y\n",
        "\n",
        "res1, res2 = test_func()\n",
        "display(res1, res2)\n",
        "\n",
        "res3 = test_func()\n",
        "display(res3)"
      ],
      "metadata": {
        "colab": {
          "base_uri": "https://localhost:8080/",
          "height": 69
        },
        "id": "hBey0HIoABQq",
        "outputId": "0c07b21b-f994-48d8-de12-551f85c0ad8d"
      },
      "execution_count": 46,
      "outputs": [
        {
          "output_type": "display_data",
          "data": {
            "text/plain": [
              "4"
            ]
          },
          "metadata": {}
        },
        {
          "output_type": "display_data",
          "data": {
            "text/plain": [
              "9"
            ]
          },
          "metadata": {}
        },
        {
          "output_type": "display_data",
          "data": {
            "text/plain": [
              "(4, 9)"
            ]
          },
          "metadata": {}
        }
      ]
    },
    {
      "cell_type": "code",
      "source": [
        "#list\n",
        "\n",
        "a_list = []\n",
        "a_list = [1, 3, 5, 7, 9]\n",
        "print(f'a_list[] is {type(a_list)}')"
      ],
      "metadata": {
        "colab": {
          "base_uri": "https://localhost:8080/"
        },
        "id": "VqocLAguARUF",
        "outputId": "5fb111eb-c867-4b9a-e3eb-80d85df116f8"
      },
      "execution_count": 57,
      "outputs": [
        {
          "output_type": "stream",
          "name": "stdout",
          "text": [
            "a_list[] is <class 'list'>\n"
          ]
        }
      ]
    },
    {
      "cell_type": "code",
      "source": [
        "a_list.append(11)\n",
        "display(a_list)\n",
        "a_list.insert(3, 6)\n",
        "display(a_list)\n",
        "a_list.remove(6)\n",
        "display(a_list)\n",
        "a_list.extend([13, 15])\n",
        "display(a_list)\n",
        "a_list = a_list + [17, 19, 21]\n",
        "display(a_list)"
      ],
      "metadata": {
        "colab": {
          "base_uri": "https://localhost:8080/",
          "height": 104
        },
        "id": "ODtX81LZBH4Y",
        "outputId": "5d1ef5ad-268e-4e55-b7de-f938bbe4114d"
      },
      "execution_count": 58,
      "outputs": [
        {
          "output_type": "display_data",
          "data": {
            "text/plain": [
              "[1, 3, 5, 7, 9, 11]"
            ]
          },
          "metadata": {}
        },
        {
          "output_type": "display_data",
          "data": {
            "text/plain": [
              "[1, 3, 5, 6, 7, 9, 11]"
            ]
          },
          "metadata": {}
        },
        {
          "output_type": "display_data",
          "data": {
            "text/plain": [
              "[1, 3, 5, 7, 9, 11]"
            ]
          },
          "metadata": {}
        },
        {
          "output_type": "display_data",
          "data": {
            "text/plain": [
              "[1, 3, 5, 7, 9, 11, 13, 15]"
            ]
          },
          "metadata": {}
        },
        {
          "output_type": "display_data",
          "data": {
            "text/plain": [
              "[1, 3, 5, 7, 9, 11, 13, 15, 17, 19, 21]"
            ]
          },
          "metadata": {}
        }
      ]
    },
    {
      "cell_type": "code",
      "source": [
        "a_list.reverse()\n",
        "display(a_list)\n",
        "a_list.sort()\n",
        "display(a_list)"
      ],
      "metadata": {
        "colab": {
          "base_uri": "https://localhost:8080/",
          "height": 52
        },
        "id": "TXGy6L6YBoU7",
        "outputId": "165e5564-be16-4190-8c58-4671ebf7b8ad"
      },
      "execution_count": 59,
      "outputs": [
        {
          "output_type": "display_data",
          "data": {
            "text/plain": [
              "[21, 19, 17, 15, 13, 11, 9, 7, 5, 3, 1]"
            ]
          },
          "metadata": {}
        },
        {
          "output_type": "display_data",
          "data": {
            "text/plain": [
              "[1, 3, 5, 7, 9, 11, 13, 15, 17, 19, 21]"
            ]
          },
          "metadata": {}
        }
      ]
    },
    {
      "cell_type": "code",
      "source": [
        "b_list = [1, 7, 3, 5]\n",
        "c_list = b_list\n",
        "c_list.sort()\n",
        "\n",
        "display(b_list)\n",
        "display(c_list)"
      ],
      "metadata": {
        "colab": {
          "base_uri": "https://localhost:8080/",
          "height": 52
        },
        "id": "LHM0Us0aCTbk",
        "outputId": "71c1ecff-2c05-47ed-ceb3-bb56f84fc381"
      },
      "execution_count": 60,
      "outputs": [
        {
          "output_type": "display_data",
          "data": {
            "text/plain": [
              "[1, 3, 5, 7]"
            ]
          },
          "metadata": {}
        },
        {
          "output_type": "display_data",
          "data": {
            "text/plain": [
              "[1, 3, 5, 7]"
            ]
          },
          "metadata": {}
        }
      ]
    },
    {
      "cell_type": "code",
      "source": [],
      "metadata": {
        "id": "4gkXCyQNCs0N"
      },
      "execution_count": null,
      "outputs": []
    }
  ]
}